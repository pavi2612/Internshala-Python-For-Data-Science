{
 "cells": [
  {
   "cell_type": "code",
   "execution_count": 8,
   "id": "b491ce0d",
   "metadata": {},
   "outputs": [
    {
     "name": "stdout",
     "output_type": "stream",
     "text": [
      "{'CASSEL', 'JAIME', 'CERSEI', 'SANSA', 'ROYCE', 'BRAN', 'WILL', 'SEPTA MORDANE', 'ROBB', 'THEON', 'JON', 'CATELYN', 'ROBERT', 'ARYA', 'GARED', 'WAYMAR ROYCE', 'NED'}\n",
      "17\n"
     ]
    }
   ],
   "source": [
    "import re\n",
    "script=open(\"conv.txt\",'r')\n",
    "dialogue=script.read()\n",
    "character=set(dialogue.split())\n",
    "character=[char.strip('.,!;()[]')for char in character]\n",
    "character=[char.replace(\"'s\",'')for char in character]\n",
    "role=[]\n",
    "role=re.findall(r'^([^:\\n-][^:\\n]*):', dialogue, re.M)\n",
    "person=[]\n",
    "person=set(role)\n",
    "print(person)\n",
    "print(len(person))"
   ]
  },
  {
   "cell_type": "code",
   "execution_count": 9,
   "id": "6dc76877",
   "metadata": {},
   "outputs": [],
   "source": [
    "f=open(\"conv.txt\",'r')\n",
    "r=f.readlines()\n",
    "t=[]\n",
    "for i in r:\n",
    "    t.append(i.split(\":\"))\n",
    "for i in person:\n",
    "    s=i+\".txt\"\n",
    "    f=open(s,\"w\")\n",
    "    for j in range(len(t)):\n",
    "        if(i==t[j][0]):\n",
    "            f.write(t[j][1])"
   ]
  },
  {
   "cell_type": "code",
   "execution_count": 10,
   "id": "e158546a",
   "metadata": {},
   "outputs": [],
   "source": [
    "for j in person:\n",
    "    s=j+\".txt\"\n",
    "    text_file = open(s, 'r')\n",
    "    text = text_file.read()\n",
    "\n",
    "    #cleaning\n",
    "    text = text.lower()\n",
    "    words = text.split()\n",
    "    words = [word.strip('.,!;()[]') for word in words]\n",
    "    words = [word.replace(\"'s\", '') for word in words]\n",
    "    unique = []\n",
    "    for word in words:\n",
    "        if word not in unique:\n",
    "            unique.append(word)\n",
    "    unique.sort()\n",
    "    text_file.close()\n",
    "    f=open(s, 'w')\n",
    "    for i in unique:\n",
    "        f.write(i+\"\\n\")\n",
    "    f.close()"
   ]
  },
  {
   "cell_type": "code",
   "execution_count": null,
   "id": "78d84858",
   "metadata": {},
   "outputs": [],
   "source": []
  },
  {
   "cell_type": "code",
   "execution_count": 128,
   "id": "a40e61ac",
   "metadata": {},
   "outputs": [],
   "source": []
  },
  {
   "cell_type": "code",
   "execution_count": null,
   "id": "c9c87584",
   "metadata": {},
   "outputs": [],
   "source": []
  }
 ],
 "metadata": {
  "kernelspec": {
   "display_name": "Python 3 (ipykernel)",
   "language": "python",
   "name": "python3"
  },
  "language_info": {
   "codemirror_mode": {
    "name": "ipython",
    "version": 3
   },
   "file_extension": ".py",
   "mimetype": "text/x-python",
   "name": "python",
   "nbconvert_exporter": "python",
   "pygments_lexer": "ipython3",
   "version": "3.9.12"
  }
 },
 "nbformat": 4,
 "nbformat_minor": 5
}
